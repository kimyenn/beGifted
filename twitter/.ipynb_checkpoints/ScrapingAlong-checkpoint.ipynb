{
 "cells": [
  {
   "cell_type": "markdown",
   "metadata": {
    "collapsed": false
   },
   "source": [
    "Script to collect tweets"
   ]
  },
  {
   "cell_type": "code",
   "execution_count": 1,
   "metadata": {
    "collapsed": false
   },
   "outputs": [],
   "source": [
    "#Connect to MongoDB twitter database\n",
    "from pymongo import MongoClient\n",
    "mongo_client = MongoClient()\n",
    "db = mongo_client['twitter_db']\n",
    "coll = db['twitter_collection']"
   ]
  },
  {
   "cell_type": "code",
   "execution_count": null,
   "metadata": {
    "collapsed": false
   },
   "outputs": [],
   "source": [
    "twitter_handles = coll.distinct('user.screen_name')"
   ]
  },
  {
   "cell_type": "code",
   "execution_count": null,
   "metadata": {
    "collapsed": false
   },
   "outputs": [],
   "source": []
  },
  {
   "cell_type": "code",
   "execution_count": null,
   "metadata": {
    "collapsed": false
   },
   "outputs": [],
   "source": [
    "#save list of twitter handles to list\n",
    "\n",
    "with open('../data/users_list.txt', 'w') as f:\n",
    "    for handle in twitter_handles:\n",
    "        f.write(handle.encode('ascii') + '\\n')"
   ]
  },
  {
   "cell_type": "code",
   "execution_count": null,
   "metadata": {
    "collapsed": true
   },
   "outputs": [],
   "source": [
    "#Connect to tweets_by_users db\n",
    "coll = db['tweets_by_users']"
   ]
  },
  {
   "cell_type": "code",
   "execution_count": null,
   "metadata": {
    "collapsed": false,
    "scrolled": true
   },
   "outputs": [],
   "source": [
    "companies = []\n",
    "with open ('../data/companies.txt') as f:\n",
    "    for line in f:\n",
    "        c = line[line.find(',') + 1:line.find('\\n')]\n",
    "        companies.append(c)\n",
    "companies"
   ]
  },
  {
   "cell_type": "code",
   "execution_count": null,
   "metadata": {
    "collapsed": false
   },
   "outputs": [],
   "source": [
    "#regex pattern to search for instagram usernames in a twitter user's description\n",
    "import re\n",
    "pattern = '(ig|instagram|IG|INSTAGRAM)(.*)' \n",
    "m = re.search(pattern, desc)\n",
    "m.group(0).split(0)[-1]"
   ]
  },
  {
   "cell_type": "code",
   "execution_count": 2,
   "metadata": {
    "collapsed": false
   },
   "outputs": [],
   "source": [
    "#Connect to tweets_by_companies db\n",
    "coll = db['tweets_by_companies']"
   ]
  },
  {
   "cell_type": "code",
   "execution_count": 3,
   "metadata": {
    "collapsed": false
   },
   "outputs": [],
   "source": [
    "import get_tweet_history \n",
    "from collections import defaultdict"
   ]
  },
  {
   "cell_type": "markdown",
   "metadata": {
    "collapsed": false
   },
   "source": [
    "testing out user scraping"
   ]
  },
  {
   "cell_type": "code",
   "execution_count": null,
   "metadata": {
    "collapsed": false
   },
   "outputs": [],
   "source": [
    "import tweepy\n",
    "tweepy.__file__"
   ]
  },
  {
   "cell_type": "code",
   "execution_count": null,
   "metadata": {
    "collapsed": false,
    "scrolled": false
   },
   "outputs": [
    {
     "name": "stdout",
     "output_type": "stream",
     "text": [
      "Rate limit reached. Sleeping for: 336\n",
      "Error encountered at Sat Dec 19 11:54:34 2015 on minerj20, will try in 5 minutes\n",
      "Successfully scraped: Pocahontas_X33 at Sat Dec 19 12:00:10 2015\n",
      "Successfully scraped: giowannanasia at Sat Dec 19 12:00:52 2015\n",
      "Successfully scraped: dakotamcr at Sat Dec 19 12:00:57 2015\n",
      "Successfully scraped: SouthamptonOC at Sat Dec 19 12:01:08 2015\n",
      "Successfully scraped: OwnOakYupDim448 at Sat Dec 19 12:01:33 2015\n",
      "Successfully scraped: 38kawikx at Sat Dec 19 12:02:12 2015\n",
      "Successfully scraped: _vchez at Sat Dec 19 12:02:23 2015\n",
      "Successfully scraped: georgelinch_3 at Sat Dec 19 12:02:49 2015\n",
      "Successfully scraped: JillyFitness at Sat Dec 19 12:03:09 2015\n",
      "Successfully scraped: ZP_5R_33 at Sat Dec 19 12:03:34 2015\n",
      "Successfully scraped: xocailyn at Sat Dec 19 12:03:55 2015\n",
      "Successfully scraped: lukeatsixx at Sat Dec 19 12:04:33 2015\n",
      "Rate limit reached. Sleeping for: 598\n",
      "Error encountered at Sat Dec 19 12:14:58 2015 on OhSillyLukey, will try in 5 minutes\n",
      "Successfully scraped: narry_akalife at Sat Dec 19 12:20:40 2015\n",
      "Successfully scraped: Sebastianyanez5 at Sat Dec 19 12:21:12 2015\n",
      "Successfully scraped: MrValentine93 at Sat Dec 19 12:21:45 2015\n",
      "Successfully scraped: bchoran_ at Sat Dec 19 12:22:06 2015\n",
      "Successfully scraped: latinlaurel333 at Sat Dec 19 12:22:07 2015\n",
      "Successfully scraped: rydelsmaia at Sat Dec 19 12:22:29 2015\n",
      "Successfully scraped: haylee_lynn24_ at Sat Dec 19 12:22:35 2015\n",
      "Successfully scraped: BlastInUhGlas__ at Sat Dec 19 12:23:09 2015\n",
      "Successfully scraped: tragicboca at Sat Dec 19 12:23:16 2015\n",
      "Successfully scraped: kisslandzain at Sat Dec 19 12:23:54 2015\n",
      "Successfully scraped: CoryYowhaddup at Sat Dec 19 12:24:17 2015\n",
      "Successfully scraped: StevieT_93 at Sat Dec 19 12:24:44 2015\n",
      "Successfully scraped: nicoleasster at Sat Dec 19 12:24:48 2015\n",
      "Rate limit reached. Sleeping for: 585\n",
      "KeyboardInterrupt\n",
      "KeyboardInterrupt\n",
      "KeyboardInterrupt\n",
      "Rate limit reached. Sleeping for:"
     ]
    }
   ],
   "source": [
    "with open('../data/users_list.txt') as f:\n",
    "    users = f.read().splitlines()\n",
    "    \n",
    "for user in users[469:]:\n",
    "    get_tweet_history.restart(user)"
   ]
  },
  {
   "cell_type": "code",
   "execution_count": null,
   "metadata": {
    "collapsed": true
   },
   "outputs": [],
   "source": []
  },
  {
   "cell_type": "code",
   "execution_count": null,
   "metadata": {
    "collapsed": false,
    "scrolled": true
   },
   "outputs": [],
   "source": []
  },
  {
   "cell_type": "code",
   "execution_count": null,
   "metadata": {
    "collapsed": false,
    "scrolled": true
   },
   "outputs": [],
   "source": []
  },
  {
   "cell_type": "code",
   "execution_count": null,
   "metadata": {
    "collapsed": true
   },
   "outputs": [],
   "source": []
  }
 ],
 "metadata": {
  "kernelspec": {
   "display_name": "Python 2",
   "language": "python",
   "name": "python2"
  },
  "language_info": {
   "codemirror_mode": {
    "name": "ipython",
    "version": 2
   },
   "file_extension": ".py",
   "mimetype": "text/x-python",
   "name": "python",
   "nbconvert_exporter": "python",
   "pygments_lexer": "ipython2",
   "version": "2.7.10"
  }
 },
 "nbformat": 4,
 "nbformat_minor": 0
}
