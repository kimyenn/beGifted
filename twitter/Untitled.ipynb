{
 "cells": [
  {
   "cell_type": "code",
   "execution_count": 23,
   "metadata": {
    "collapsed": false
   },
   "outputs": [
    {
     "name": "stderr",
     "output_type": "stream",
     "text": [
      "[autoreload of get_user_tweets failed: Traceback (most recent call last):\n",
      "  File \"/Users/Kimyen/anaconda/lib/python2.7/site-packages/IPython/extensions/autoreload.py\", line 247, in check\n",
      "    superreload(m, reload, self.old_objects)\n",
      "  File \"get_user_tweets.py\", line 55\n",
      "    conn = MongoClient('localhost', 27017)\n",
      "                                         ^\n",
      "IndentationError: unindent does not match any outer indentation level\n",
      "]\n"
     ]
    }
   ],
   "source": [
    "from pymongo import MongoClient"
   ]
  },
  {
   "cell_type": "code",
   "execution_count": 2,
   "metadata": {
    "collapsed": true
   },
   "outputs": [],
   "source": [
    "mongo_client = MongoClient()\n",
    "db = mongo_client['twitter_db']\n",
    "coll = db['twitter_collection']"
   ]
  },
  {
   "cell_type": "code",
   "execution_count": 9,
   "metadata": {
    "collapsed": false
   },
   "outputs": [],
   "source": [
    "twitter_handles = coll.distinct('user.screen_name')"
   ]
  },
  {
   "cell_type": "code",
   "execution_count": 11,
   "metadata": {
    "collapsed": false
   },
   "outputs": [
    {
     "data": {
      "text/plain": [
       "5560"
      ]
     },
     "execution_count": 11,
     "metadata": {},
     "output_type": "execute_result"
    }
   ],
   "source": [
    "coll.count()"
   ]
  },
  {
   "cell_type": "code",
   "execution_count": 10,
   "metadata": {
    "collapsed": false
   },
   "outputs": [
    {
     "data": {
      "text/plain": [
       "5054"
      ]
     },
     "execution_count": 10,
     "metadata": {},
     "output_type": "execute_result"
    }
   ],
   "source": [
    "len(twitter_handles)"
   ]
  },
  {
   "cell_type": "code",
   "execution_count": 17,
   "metadata": {
    "collapsed": false
   },
   "outputs": [],
   "source": [
    "import get_user_tweets as get_user_tweets\n",
    "from collections import defaultdict"
   ]
  },
  {
   "cell_type": "code",
   "execution_count": 18,
   "metadata": {
    "collapsed": false
   },
   "outputs": [
    {
     "name": "stdout",
     "output_type": "stream",
     "text": [
      "getting tweets before 673363580813778943\n",
      "...395 tweets downloaded so far\n",
      "getting tweets before 668096696975540223\n",
      "...592 tweets downloaded so far\n",
      "getting tweets before 659051291428167680\n",
      "...788 tweets downloaded so far\n",
      "getting tweets before 655500788853252095\n",
      "...983 tweets downloaded so far\n",
      "getting tweets before 645223251577335807\n",
      "...1178 tweets downloaded so far\n",
      "getting tweets before 640994948234498047\n",
      "...1372 tweets downloaded so far\n",
      "getting tweets before 636128626874957823\n",
      "...1564 tweets downloaded so far\n",
      "getting tweets before 524354027069644799\n",
      "...1754 tweets downloaded so far\n",
      "getting tweets before 516359033729847295\n",
      "...1942 tweets downloaded so far\n",
      "getting tweets before 509804735990611967\n",
      "...2107 tweets downloaded so far\n",
      "getting tweets before 483480744493195263\n",
      "...2288 tweets downloaded so far\n",
      "getting tweets before 478365795891019775\n",
      "...2459 tweets downloaded so far\n",
      "getting tweets before 473645450193424383\n",
      "...2631 tweets downloaded so far\n",
      "getting tweets before 467378540443619327\n",
      "...2806 tweets downloaded so far\n",
      "getting tweets before 460579962924187649\n",
      "...2968 tweets downloaded so far\n",
      "getting tweets before 440825400206569471\n",
      "...2992 tweets downloaded so far\n",
      "getting tweets before 435955802130874367\n",
      "...2992 tweets downloaded so far\n"
     ]
    },
    {
     "ename": "TweepError",
     "evalue": "Not authorized.",
     "output_type": "error",
     "traceback": [
      "\u001b[0;31m---------------------------------------------------------------------------\u001b[0m",
      "\u001b[0;31mTweepError\u001b[0m                                Traceback (most recent call last)",
      "\u001b[0;32m<ipython-input-18-191ca7ddf83f>\u001b[0m in \u001b[0;36m<module>\u001b[0;34m()\u001b[0m\n\u001b[1;32m      2\u001b[0m \u001b[0;34m\u001b[0m\u001b[0m\n\u001b[1;32m      3\u001b[0m \u001b[0;32mfor\u001b[0m \u001b[0muser\u001b[0m \u001b[0;32min\u001b[0m \u001b[0mtwitter_handles\u001b[0m\u001b[0;34m[\u001b[0m\u001b[0;34m:\u001b[0m\u001b[0;36m10\u001b[0m\u001b[0;34m]\u001b[0m\u001b[0;34m:\u001b[0m\u001b[0;34m\u001b[0m\u001b[0m\n\u001b[0;32m----> 4\u001b[0;31m     \u001b[0mtweets\u001b[0m\u001b[0;34m[\u001b[0m\u001b[0muser\u001b[0m\u001b[0;34m]\u001b[0m \u001b[0;34m=\u001b[0m \u001b[0mget_user_tweets\u001b[0m\u001b[0;34m.\u001b[0m\u001b[0mget_all_tweets\u001b[0m\u001b[0;34m(\u001b[0m\u001b[0muser\u001b[0m\u001b[0;34m)\u001b[0m\u001b[0;34m\u001b[0m\u001b[0m\n\u001b[0m",
      "\u001b[0;32m/Users/Kimyen/Desktop/Galvanize/DSI/capstone-project/twitter/get_user_tweets.py\u001b[0m in \u001b[0;36mget_all_tweets\u001b[0;34m(screen_name)\u001b[0m\n\u001b[1;32m     26\u001b[0m \u001b[0;34m\u001b[0m\u001b[0m\n\u001b[1;32m     27\u001b[0m         \u001b[0;31m#make initial request for most recent tweets (200 is the maximum allowed count)\u001b[0m\u001b[0;34m\u001b[0m\u001b[0;34m\u001b[0m\u001b[0m\n\u001b[0;32m---> 28\u001b[0;31m         \u001b[0mnew_tweets\u001b[0m \u001b[0;34m=\u001b[0m \u001b[0mapi\u001b[0m\u001b[0;34m.\u001b[0m\u001b[0muser_timeline\u001b[0m\u001b[0;34m(\u001b[0m\u001b[0mscreen_name\u001b[0m \u001b[0;34m=\u001b[0m \u001b[0mscreen_name\u001b[0m\u001b[0;34m,\u001b[0m\u001b[0mcount\u001b[0m\u001b[0;34m=\u001b[0m\u001b[0;36m200\u001b[0m\u001b[0;34m)\u001b[0m\u001b[0;34m\u001b[0m\u001b[0m\n\u001b[0m\u001b[1;32m     29\u001b[0m \u001b[0;34m\u001b[0m\u001b[0m\n\u001b[1;32m     30\u001b[0m         \u001b[0;31m#save most recent tweets\u001b[0m\u001b[0;34m\u001b[0m\u001b[0;34m\u001b[0m\u001b[0m\n",
      "\u001b[0;32m/Users/Kimyen/anaconda/lib/python2.7/site-packages/tweepy/binder.pyc\u001b[0m in \u001b[0;36m_call\u001b[0;34m(*args, **kwargs)\u001b[0m\n\u001b[1;32m    243\u001b[0m             \u001b[0;32mreturn\u001b[0m \u001b[0mmethod\u001b[0m\u001b[0;34m\u001b[0m\u001b[0m\n\u001b[1;32m    244\u001b[0m         \u001b[0;32melse\u001b[0m\u001b[0;34m:\u001b[0m\u001b[0;34m\u001b[0m\u001b[0m\n\u001b[0;32m--> 245\u001b[0;31m             \u001b[0;32mreturn\u001b[0m \u001b[0mmethod\u001b[0m\u001b[0;34m.\u001b[0m\u001b[0mexecute\u001b[0m\u001b[0;34m(\u001b[0m\u001b[0;34m)\u001b[0m\u001b[0;34m\u001b[0m\u001b[0m\n\u001b[0m\u001b[1;32m    246\u001b[0m \u001b[0;34m\u001b[0m\u001b[0m\n\u001b[1;32m    247\u001b[0m     \u001b[0;31m# Set pagination mode\u001b[0m\u001b[0;34m\u001b[0m\u001b[0;34m\u001b[0m\u001b[0m\n",
      "\u001b[0;32m/Users/Kimyen/anaconda/lib/python2.7/site-packages/tweepy/binder.pyc\u001b[0m in \u001b[0;36mexecute\u001b[0;34m(self)\u001b[0m\n\u001b[1;32m    227\u001b[0m                     \u001b[0;32mraise\u001b[0m \u001b[0mRateLimitError\u001b[0m\u001b[0;34m(\u001b[0m\u001b[0merror_msg\u001b[0m\u001b[0;34m,\u001b[0m \u001b[0mresp\u001b[0m\u001b[0;34m)\u001b[0m\u001b[0;34m\u001b[0m\u001b[0m\n\u001b[1;32m    228\u001b[0m                 \u001b[0;32melse\u001b[0m\u001b[0;34m:\u001b[0m\u001b[0;34m\u001b[0m\u001b[0m\n\u001b[0;32m--> 229\u001b[0;31m                     \u001b[0;32mraise\u001b[0m \u001b[0mTweepError\u001b[0m\u001b[0;34m(\u001b[0m\u001b[0merror_msg\u001b[0m\u001b[0;34m,\u001b[0m \u001b[0mresp\u001b[0m\u001b[0;34m,\u001b[0m \u001b[0mapi_code\u001b[0m\u001b[0;34m=\u001b[0m\u001b[0mapi_error_code\u001b[0m\u001b[0;34m)\u001b[0m\u001b[0;34m\u001b[0m\u001b[0m\n\u001b[0m\u001b[1;32m    230\u001b[0m \u001b[0;34m\u001b[0m\u001b[0m\n\u001b[1;32m    231\u001b[0m             \u001b[0;31m# Parse the response payload\u001b[0m\u001b[0;34m\u001b[0m\u001b[0;34m\u001b[0m\u001b[0m\n",
      "\u001b[0;31mTweepError\u001b[0m: Not authorized."
     ]
    }
   ],
   "source": [
    "tweets = defaultdict(list)\n",
    "\n",
    "for user in twitter_handles[:10]:\n",
    "    tweets[user] = get_user_tweets.get_all_tweets(user)"
   ]
  },
  {
   "cell_type": "code",
   "execution_count": 20,
   "metadata": {
    "collapsed": false
   },
   "outputs": [
    {
     "data": {
      "text/plain": [
       "[u'trippnationn',\n",
       " u'qneboliq',\n",
       " u'USUAggie1990',\n",
       " u'TamiDurling',\n",
       " u'__Ganjaaa',\n",
       " u'quiwop',\n",
       " u'streethistory',\n",
       " u'RadtkeKristin',\n",
       " u'Zaammnky',\n",
       " u'yungjosey']"
      ]
     },
     "execution_count": 20,
     "metadata": {},
     "output_type": "execute_result"
    }
   ],
   "source": [
    "twitter_handles[:10]"
   ]
  },
  {
   "cell_type": "code",
   "execution_count": 22,
   "metadata": {
    "collapsed": false
   },
   "outputs": [
    {
     "name": "stdout",
     "output_type": "stream",
     "text": [
      "getting tweets before 673363580813778943\n",
      "...395 tweets downloaded so far\n",
      "getting tweets before 668096696975540223\n",
      "...592 tweets downloaded so far\n",
      "getting tweets before 659051291428167680\n",
      "...788 tweets downloaded so far\n",
      "getting tweets before 655500788853252095\n",
      "...983 tweets downloaded so far\n",
      "getting tweets before 645223251577335807\n",
      "...1178 tweets downloaded so far\n",
      "getting tweets before 640994948234498047\n",
      "...1372 tweets downloaded so far\n",
      "getting tweets before 636128626874957823\n",
      "...1564 tweets downloaded so far\n",
      "getting tweets before 524354027069644799\n",
      "...1754 tweets downloaded so far\n",
      "getting tweets before 516359033729847295\n",
      "...1942 tweets downloaded so far\n",
      "getting tweets before 509804735990611967\n",
      "...2107 tweets downloaded so far\n",
      "getting tweets before 483480744493195263\n",
      "...2288 tweets downloaded so far\n",
      "getting tweets before 478365795891019775\n",
      "...2459 tweets downloaded so far\n",
      "getting tweets before 473645450193424383\n",
      "...2631 tweets downloaded so far\n",
      "getting tweets before 467378540443619327\n",
      "...2806 tweets downloaded so far\n",
      "getting tweets before 460579962924187649\n",
      "...2968 tweets downloaded so far\n",
      "getting tweets before 440825400206569471\n",
      "...2992 tweets downloaded so far\n",
      "getting tweets before 435955802130874367\n",
      "...2992 tweets downloaded so far\n"
     ]
    }
   ],
   "source": [
    "get_user_tweets.get_all_tweets('trippnationn')"
   ]
  },
  {
   "cell_type": "code",
   "execution_count": null,
   "metadata": {
    "collapsed": true
   },
   "outputs": [],
   "source": []
  }
 ],
 "metadata": {
  "kernelspec": {
   "display_name": "Python 2",
   "language": "python",
   "name": "python2"
  },
  "language_info": {
   "codemirror_mode": {
    "name": "ipython",
    "version": 2
   },
   "file_extension": ".py",
   "mimetype": "text/x-python",
   "name": "python",
   "nbconvert_exporter": "python",
   "pygments_lexer": "ipython2",
   "version": "2.7.10"
  }
 },
 "nbformat": 4,
 "nbformat_minor": 0
}
